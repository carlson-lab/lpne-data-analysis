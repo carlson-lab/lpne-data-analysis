{
 "cells": [
  {
   "cell_type": "markdown",
   "id": "82fac533",
   "metadata": {},
   "source": [
    "This is a guide on how to project into Neil's depression network.\n",
    "\n",
    "This guide assumes you know how to generate features using the MATLAB pipeline."
   ]
  },
  {
   "cell_type": "markdown",
   "id": "7903afab",
   "metadata": {},
   "source": [
    "If you're reading this, you're in the right place, since you need to be using a specific version of the MATLAB pipeline in order to make features that are compatible with depression network projection. "
   ]
  },
  {
   "cell_type": "markdown",
   "id": "3e9fcefb",
   "metadata": {},
   "source": [
    "Ideally, you are accessing this through GitHub, where you've cloned this repository to your local machine and have swithced to this branch instead of downloading a version of the code outside of GitHub.\n",
    "\n",
    "If you do not have this and don't know how to do this, talk to Noah."
   ]
  },
  {
   "cell_type": "markdown",
   "id": "09ae5c0a",
   "metadata": {},
   "source": [
    "In order to projet into the depression network, you have to generate the features in the right way. There are two things that go into this. First,"
   ]
  }
 ],
 "metadata": {
  "kernelspec": {
   "display_name": "Python 3 (ipykernel)",
   "language": "python",
   "name": "python3"
  },
  "language_info": {
   "codemirror_mode": {
    "name": "ipython",
    "version": 3
   },
   "file_extension": ".py",
   "mimetype": "text/x-python",
   "name": "python",
   "nbconvert_exporter": "python",
   "pygments_lexer": "ipython3",
   "version": "3.9.7"
  }
 },
 "nbformat": 4,
 "nbformat_minor": 5
}
