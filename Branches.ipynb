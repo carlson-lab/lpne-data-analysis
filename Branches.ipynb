{
 "cells": [
  {
   "cell_type": "markdown",
   "id": "8fe9a5ba",
   "metadata": {},
   "source": [
    "This repository has multiple branches, some of which are necessary to use in order to complete a spcific purpose."
   ]
  },
  {
   "cell_type": "markdown",
   "id": "e4edbeb6",
   "metadata": {},
   "source": [
    "Here is a list of the branches that you can use, and what purpose their existence serves. \n",
    "\n",
    "1. Master Branch: This branch is the main branch used. If the use cases below don't apply, you probably should just stick to using the master branch.\n",
    "\n",
    "2. condiotional_lsd: This branch is used to calculate the linear drected spectrumn features. If you are using directedSpectrum or pwdirectedSpectrum, then you need to be using this branch. Unsure what is preventing it from being pulled.\n",
    "\n",
    "3. centered_windows: This branch is used when you want to create your windows of the LFP recording centered around millisecond timepoints as opposed to "
   ]
  },
  {
   "cell_type": "code",
   "execution_count": null,
   "id": "1236c46b",
   "metadata": {},
   "outputs": [],
   "source": []
  }
 ],
 "metadata": {
  "kernelspec": {
   "display_name": "Python 3 (ipykernel)",
   "language": "python",
   "name": "python3"
  },
  "language_info": {
   "codemirror_mode": {
    "name": "ipython",
    "version": 3
   },
   "file_extension": ".py",
   "mimetype": "text/x-python",
   "name": "python",
   "nbconvert_exporter": "python",
   "pygments_lexer": "ipython3",
   "version": "3.9.7"
  }
 },
 "nbformat": 4,
 "nbformat_minor": 5
}
